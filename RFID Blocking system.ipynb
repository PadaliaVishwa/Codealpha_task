{
 "cells": [
  {
   "cell_type": "code",
   "execution_count": 11,
   "id": "8d16eb59",
   "metadata": {},
   "outputs": [],
   "source": [
    "import time\n",
    "import random\n",
    "import logging"
   ]
  },
  {
   "cell_type": "code",
   "execution_count": 12,
   "id": "45c2ec61",
   "metadata": {},
   "outputs": [],
   "source": [
    "# Setup logging\n",
    "logging.basicConfig(filename='rfid_log.txt', level=logging.INFO, format='%(asctime)s - %(message)s')\n"
   ]
  },
  {
   "cell_type": "code",
   "execution_count": 13,
   "id": "af64bce0",
   "metadata": {},
   "outputs": [],
   "source": [
    "# Simulated list of authorized RFID tags\n",
    "authorized_tags = [\"TAG123\", \"TAG456\", \"TAG789\"]"
   ]
  },
  {
   "cell_type": "code",
   "execution_count": 14,
   "id": "bb8d1f5f",
   "metadata": {},
   "outputs": [],
   "source": [
    "# Function to simulate scanning an RFID tag\n",
    "def scan_rfid():\n",
    "    simulated_tags = [\"TAG123\", \"TAG456\", \"TAG789\", \"TAG999\", \"TAG888\", \"TAG699\"]  # Including unauthorized tags\n",
    "    scanned_tag = random.choice(simulated_tags)\n",
    "    return scanned_tag"
   ]
  },
  {
   "cell_type": "code",
   "execution_count": 15,
   "id": "0782040c",
   "metadata": {},
   "outputs": [],
   "source": [
    "# Function to check if the scanned tag is authorized\n",
    "def is_authorized(tag):\n",
    "    return tag in authorized_tags"
   ]
  },
  {
   "cell_type": "code",
   "execution_count": 16,
   "id": "a69545fd",
   "metadata": {},
   "outputs": [],
   "source": [
    "# Function to log unauthorized scans\n",
    "def log_unauthorized_scan(tag):\n",
    "    logging.warning(f\"Unauthorized RFID scan detected: {tag}\")"
   ]
  },
  {
   "cell_type": "code",
   "execution_count": 17,
   "id": "960d0769",
   "metadata": {},
   "outputs": [],
   "source": [
    "# Function to notify user of unauthorized scan (simulated with print statement)\n",
    "def notify_user(tag):\n",
    "    print(f\"Alert! Unauthorized RFID scan detected: {tag}\")"
   ]
  },
  {
   "cell_type": "code",
   "execution_count": 18,
   "id": "9983da95",
   "metadata": {},
   "outputs": [],
   "source": [
    "# Main function to run the RFID blocking simulation\n",
    "def rfid_blocking_system(num_scans):\n",
    "    for _ in range(num_scans):\n",
    "        scanned_tag = scan_rfid()\n",
    "        print(f\"Scanned RFID Tag: {scanned_tag}\")\n",
    "        \n",
    "        if not is_authorized(scanned_tag):\n",
    "            log_unauthorized_scan(scanned_tag)\n",
    "            notify_user(scanned_tag)\n",
    "        \n",
    "        # Wait for a short period before the next scan\n",
    "        time.sleep(2)  # Adjust as needed"
   ]
  },
  {
   "cell_type": "code",
   "execution_count": 19,
   "id": "c553b6dd",
   "metadata": {},
   "outputs": [
    {
     "name": "stdout",
     "output_type": "stream",
     "text": [
      "Starting RFID blocking system simulation...\n",
      "Scanned RFID Tag: TAG888\n",
      "Alert! Unauthorized RFID scan detected: TAG888\n",
      "Scanned RFID Tag: TAG699\n",
      "Alert! Unauthorized RFID scan detected: TAG699\n",
      "Scanned RFID Tag: TAG456\n",
      "Scanned RFID Tag: TAG888\n",
      "Alert! Unauthorized RFID scan detected: TAG888\n",
      "Scanned RFID Tag: TAG699\n",
      "Alert! Unauthorized RFID scan detected: TAG699\n",
      "Scanned RFID Tag: TAG999\n",
      "Alert! Unauthorized RFID scan detected: TAG999\n",
      "Scanned RFID Tag: TAG456\n",
      "Scanned RFID Tag: TAG999\n",
      "Alert! Unauthorized RFID scan detected: TAG999\n"
     ]
    }
   ],
   "source": [
    "# Run the RFID blocking system simulation\n",
    "if __name__ == \"__main__\":\n",
    "    print(\"Starting RFID blocking system simulation...\")\n",
    "    rfid_blocking_system(num_scans=8)  # Number of scans to perform"
   ]
  },
  {
   "cell_type": "code",
   "execution_count": null,
   "id": "15bb98e4",
   "metadata": {},
   "outputs": [],
   "source": []
  }
 ],
 "metadata": {
  "kernelspec": {
   "display_name": "Python 3 (ipykernel)",
   "language": "python",
   "name": "python3"
  },
  "language_info": {
   "codemirror_mode": {
    "name": "ipython",
    "version": 3
   },
   "file_extension": ".py",
   "mimetype": "text/x-python",
   "name": "python",
   "nbconvert_exporter": "python",
   "pygments_lexer": "ipython3",
   "version": "3.11.3"
  }
 },
 "nbformat": 4,
 "nbformat_minor": 5
}
